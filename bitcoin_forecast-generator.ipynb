{
 "cells": [
  {
   "cell_type": "markdown",
   "metadata": {},
   "source": [
    "# Prep"
   ]
  },
  {
   "cell_type": "code",
   "execution_count": 1,
   "metadata": {},
   "outputs": [],
   "source": [
    "'''\n",
    "CONSTANTS\n",
    "'''\n",
    "\n",
    "FILENAME = \"data/QUANDL.csv\"\n",
    "\n",
    "\n",
    "VALIDATION_SPLIT = 0.2\n",
    "DROPOUT_VALUE = 0.2\n",
    "EPOCHS = 10\n",
    "BATCH_SIZE = 10\n",
    "TIMESTEP_SIZE = 30\n",
    "USECOLS = [1, 2, 3, 4, 5, 6, 7]"
   ]
  },
  {
   "cell_type": "markdown",
   "metadata": {},
   "source": [
    "# Data Generator"
   ]
  },
  {
   "cell_type": "code",
   "execution_count": 2,
   "metadata": {},
   "outputs": [
    {
     "name": "stderr",
     "output_type": "stream",
     "text": [
      "Using TensorFlow backend.\n"
     ]
    }
   ],
   "source": [
    "import itertools as it\n",
    "import numpy as np\n",
    "import pandas as pd\n",
    "\n",
    "from keras.utils import Sequence\n",
    "# sequence_data is a class representing a dataset that implements generator as its getter\n",
    "import itertools as it\n",
    "import numpy as np\n",
    "import pandas as pd\n",
    "\n",
    "from keras.utils import Sequence\n",
    "# sequence_data is a class representing a dataset that implements generator as its getter\n",
    "class sequence_data(Sequence):\n",
    "    # Generate a single datum from the file\n",
    "    def read_raw_datum(self): \n",
    "        for datum in pd.read_csv(self.__filename, chunksize=1, usecols=self.__usecols):\n",
    "            yield np.array(datum.values[0])\n",
    "    \n",
    "    def __get_max(self):\n",
    "        # Manual, since I can't seem to find a library to do this\n",
    "        result = np.array([])\n",
    "        for row in self.read_raw_datum():\n",
    "            if result.size == 0: \n",
    "                result = row\n",
    "            else:\n",
    "                for col in range(row.shape[0]):\n",
    "                    if result[col] < row[col]:\n",
    "                        result[col] = row[col]\n",
    "        return result\n",
    "    \n",
    "    def __get_min(self):\n",
    "        result = np.array([])\n",
    "        for row in self.read_raw_datum():\n",
    "            if result.size == 0: \n",
    "                result = row\n",
    "            else:\n",
    "                for col in range(row.shape[0]):\n",
    "                    if result[col] > row[col]:\n",
    "                        result[col] = row[col]\n",
    "        return result\n",
    "    \n",
    "    def get_attr_length(self):\n",
    "        return len(self.__usecols)\n",
    "    \n",
    "    # Get a normalized data from a csv, within a range\n",
    "    def read_data(self, start, stop):\n",
    "        for datum in it.islice(self.read_raw_datum(), start, stop):\n",
    "            yield np.array((datum - self.__min) / (self.__max - self.__min))       \n",
    "    \n",
    "    def __init__(self, filename, start_idx, stop_idx, usecols, timestep_size, batch_size):\n",
    "        self.__filename = filename\n",
    "        self.__usecols = usecols\n",
    "        self.__start_idx = start_idx\n",
    "        self.__stop_idx = stop_idx\n",
    "        self.__max = self.__get_max()\n",
    "        self.__min = self.__get_min()\n",
    "        #self.__max, self.__min = self.__get_max_min()\n",
    "        self.__timestep_size = timestep_size\n",
    "        self.__batch_size = batch_size\n",
    "    \n",
    "    def __len__(self):\n",
    "        #return self.__stop_idx - self.__start_idx - self.__timestep_size\n",
    "        return int(np.ceil((self.__stop_idx - self.__start_idx - self.__timestep_size)/float(self.__batch_size)))\n",
    "    \n",
    "    def __getitem__(self, batch_idx):\n",
    "        x_batch_buffer = []\n",
    "        y_batch_buffer = []\n",
    "        x_timestep_buffer = []\n",
    "        # Collecting timesteps for a batch\n",
    "        for timestep_idx in range(self.__batch_size):\n",
    "            stop = min(self.__start_idx + batch_idx + timestep_idx + self.__timestep_size, self.__stop_idx)\n",
    "            if not x_timestep_buffer:\n",
    "                start = self.__start_idx + batch_idx + timestep_idx\n",
    "            else:\n",
    "                start = stop - 1\n",
    "                del x_timestep_buffer[0]\n",
    "            # Collecting data for a timestep    \n",
    "            for datum in self.read_data(start, stop + 1):\n",
    "                x_timestep_buffer.append(datum)\n",
    "            y_timestep_buffer = x_timestep_buffer.pop()\n",
    "            x_batch_buffer.append(x_timestep_buffer)\n",
    "            y_batch_buffer.append(y_timestep_buffer)\n",
    "            if stop == self.__stop_idx: break\n",
    "        return np.array(x_batch_buffer), np.array(y_batch_buffer)\n",
    "    \n",
    "    def getitem(self, idx):\n",
    "        return self.__getitem__(idx)"
   ]
  },
  {
   "cell_type": "markdown",
   "metadata": {},
   "source": [
    "# Data and Model Definition"
   ]
  },
  {
   "cell_type": "code",
   "execution_count": 3,
   "metadata": {},
   "outputs": [],
   "source": [
    "train_data = sequence_data(FILENAME, 0, 2600, USECOLS, TIMESTEP_SIZE, BATCH_SIZE)\n",
    "vali_data = sequence_data(FILENAME, 2600, 2900, USECOLS, TIMESTEP_SIZE, BATCH_SIZE)"
   ]
  },
  {
   "cell_type": "code",
   "execution_count": 5,
   "metadata": {},
   "outputs": [
    {
     "name": "stdout",
     "output_type": "stream",
     "text": [
      "_________________________________________________________________\n",
      "Layer (type)                 Output Shape              Param #   \n",
      "=================================================================\n",
      "lstm_1 (LSTM)                (10, 30, 7)               420       \n",
      "_________________________________________________________________\n",
      "leaky_re_lu_1 (LeakyReLU)    (10, 30, 7)               0         \n",
      "_________________________________________________________________\n",
      "lstm_2 (LSTM)                (10, 32)                  5120      \n",
      "_________________________________________________________________\n",
      "leaky_re_lu_2 (LeakyReLU)    (10, 32)                  0         \n",
      "_________________________________________________________________\n",
      "dropout_1 (Dropout)          (10, 32)                  0         \n",
      "_________________________________________________________________\n",
      "dense_1 (Dense)              (10, 7)                   231       \n",
      "=================================================================\n",
      "Total params: 5,771\n",
      "Trainable params: 5,771\n",
      "Non-trainable params: 0\n",
      "_________________________________________________________________\n"
     ]
    }
   ],
   "source": [
    "from keras.models import Sequential\n",
    "from keras.layers.core import Dense, Dropout\n",
    "from keras.layers.recurrent import LSTM\n",
    "from keras.layers import LeakyReLU, Flatten\n",
    "\n",
    "'''\n",
    "Model initialization\n",
    "'''\n",
    "\n",
    "model = Sequential()\n",
    "# Input layer\n",
    "model.add(LSTM(len(USECOLS), \n",
    "    batch_input_shape=(BATCH_SIZE, TIMESTEP_SIZE, len(USECOLS)),\n",
    "    return_sequences=True))\n",
    "model.add(LeakyReLU())\n",
    "# Hidden layer\n",
    "model.add(LSTM(32))\n",
    "model.add(LeakyReLU())\n",
    "model.add(Dropout(DROPOUT_VALUE))\n",
    "# Output layer\n",
    "model.add(Dense(len(USECOLS), activation='linear'))\n",
    "\n",
    "model.compile(loss='mse', optimizer='adam')\n",
    "model.summary()"
   ]
  },
  {
   "cell_type": "code",
   "execution_count": null,
   "metadata": {},
   "outputs": [
    {
     "name": "stdout",
     "output_type": "stream",
     "text": [
      "Epoch 1/10\n",
      "223/257 [=========================>....] - ETA: 8:25 - loss: 2.3974e-05"
     ]
    }
   ],
   "source": [
    "'''\n",
    "Training\n",
    "'''\n",
    "model.fit_generator(train_data,\n",
    "    validation_data=vali_data,\n",
    "    shuffle=False,\n",
    "    epochs=EPOCHS,\n",
    "    workers=4)\n",
    "\n",
    "model.save(\"saved_model/test.h5\")"
   ]
  },
  {
   "cell_type": "markdown",
   "metadata": {},
   "source": [
    "def read_raw_datum(filename): # generator\n",
    "    for datum in pd.read_csv(filename, chunksize=1, usecols=[1, 2, 3, 4, 5, 6, 7]):\n",
    "        yield datum.values[0]\n",
    "\n",
    "def get_max(filename): # returns a numpy array\n",
    "    # Manual, since I can't seem to find a library to do this\n",
    "    result = np.array([])\n",
    "    for row in read_raw_datum(filename):\n",
    "        if result.size == 0: \n",
    "            result = row\n",
    "        else:\n",
    "            for col in range(row.shape[0]):\n",
    "                if result[col] < row[col]:\n",
    "                    result[col] = row[col]\n",
    "    return result\n",
    "\n",
    "def get_min(filename): \n",
    "    result = np.array([])\n",
    "    for row in read_raw_datum(filename):\n",
    "        if result.size == 0: \n",
    "            result = row\n",
    "        else:\n",
    "            for col in range(row.shape[0]):\n",
    "                if result[col] > row[col]:\n",
    "                    result[col] = row[col]\n",
    "    return result\n",
    "\n",
    "def read_datum(filename, start, stop):\n",
    "    ma = get_max(filename)\n",
    "    mi = get_min(filename)\n",
    "    while True:\n",
    "        for datum in it.islice(read_raw_datum(filename), start, stop):\n",
    "            try:\n",
    "                yield np.reshape(np.array([(datum - mi) / (ma - mi)]), (1, 1, datum.shape[0]))\n",
    "            except StopIteration:\n",
    "                break\n",
    "\n",
    "def read_data2(filename, start, stop):\n",
    "    ma = get_max(filename)\n",
    "    mi = get_min(filename)\n",
    "    for datum in it.islice(read_raw_datum(filename), start, stop):\n",
    "        try:\n",
    "            yield np.reshape(np.array([(datum - mi) / (ma - mi)]), (1, 1, datum.shape[0]))\n",
    "        except StopIteration:\n",
    "            break"
   ]
  }
 ],
 "metadata": {
  "kernelspec": {
   "display_name": "Python 3",
   "language": "python",
   "name": "python3"
  },
  "language_info": {
   "codemirror_mode": {
    "name": "ipython",
    "version": 3
   },
   "file_extension": ".py",
   "mimetype": "text/x-python",
   "name": "python",
   "nbconvert_exporter": "python",
   "pygments_lexer": "ipython3",
   "version": "3.5.3"
  }
 },
 "nbformat": 4,
 "nbformat_minor": 2
}
